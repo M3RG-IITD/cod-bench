{
 "cells": [
  {
   "cell_type": "code",
   "execution_count": 1,
   "metadata": {},
   "outputs": [
    {
     "ename": "OSError",
     "evalue": "libcusparse.so.11: cannot open shared object file: No such file or directory",
     "output_type": "error",
     "traceback": [
      "\u001b[0;31m---------------------------------------------------------------------------\u001b[0m",
      "\u001b[0;31mOSError\u001b[0m                                   Traceback (most recent call last)",
      "\u001b[1;32m/home/taruns/priyanshu/benchmark/test_1d_loader.ipynb Cell 1\u001b[0m line \u001b[0;36m3\n\u001b[1;32m      <a href='vscode-notebook-cell://ssh-remote%2B10.64.18.52/home/taruns/priyanshu/benchmark/test_1d_loader.ipynb#W0sdnNjb2RlLXJlbW90ZQ%3D%3D?line=0'>1</a>\u001b[0m \u001b[39mfrom\u001b[39;00m \u001b[39mloader\u001b[39;00m\u001b[39m.\u001b[39;00m\u001b[39mdataloader\u001b[39;00m \u001b[39mimport\u001b[39;00m \u001b[39m*\u001b[39m\n\u001b[1;32m      <a href='vscode-notebook-cell://ssh-remote%2B10.64.18.52/home/taruns/priyanshu/benchmark/test_1d_loader.ipynb#W0sdnNjb2RlLXJlbW90ZQ%3D%3D?line=1'>2</a>\u001b[0m \u001b[39mfrom\u001b[39;00m \u001b[39mloader\u001b[39;00m\u001b[39m.\u001b[39;00m\u001b[39mloader_1d\u001b[39;00m \u001b[39mimport\u001b[39;00m \u001b[39m*\u001b[39m\n\u001b[0;32m----> <a href='vscode-notebook-cell://ssh-remote%2B10.64.18.52/home/taruns/priyanshu/benchmark/test_1d_loader.ipynb#W0sdnNjb2RlLXJlbW90ZQ%3D%3D?line=2'>3</a>\u001b[0m \u001b[39mfrom\u001b[39;00m \u001b[39mutils\u001b[39;00m\u001b[39m.\u001b[39;00m\u001b[39mutilities\u001b[39;00m \u001b[39mimport\u001b[39;00m \u001b[39m*\u001b[39m\n",
      "File \u001b[0;32m~/priyanshu/benchmark/utils/utilities.py:14\u001b[0m\n\u001b[1;32m     12\u001b[0m \u001b[39mfrom\u001b[39;00m \u001b[39meinops\u001b[39;00m \u001b[39mimport\u001b[39;00m rearrange\n\u001b[1;32m     13\u001b[0m \u001b[39mfrom\u001b[39;00m \u001b[39mtorch\u001b[39;00m\u001b[39m.\u001b[39;00m\u001b[39mnn\u001b[39;00m\u001b[39m.\u001b[39;00m\u001b[39mmodules\u001b[39;00m\u001b[39m.\u001b[39;00m\u001b[39mloss\u001b[39;00m \u001b[39mimport\u001b[39;00m _WeightedLoss\n\u001b[0;32m---> 14\u001b[0m \u001b[39mfrom\u001b[39;00m \u001b[39mdgl\u001b[39;00m\u001b[39m.\u001b[39;00m\u001b[39mnn\u001b[39;00m\u001b[39m.\u001b[39;00m\u001b[39mpytorch\u001b[39;00m \u001b[39mimport\u001b[39;00m SumPooling, AvgPooling\n\u001b[1;32m     18\u001b[0m \u001b[39m#################################################\u001b[39;00m\n\u001b[1;32m     19\u001b[0m \u001b[39m#\u001b[39;00m\n\u001b[1;32m     20\u001b[0m \u001b[39m# Utilities\u001b[39;00m\n\u001b[1;32m     21\u001b[0m \u001b[39m#\u001b[39;00m\n\u001b[1;32m     22\u001b[0m \u001b[39m#################################################\u001b[39;00m\n\u001b[1;32m     23\u001b[0m device \u001b[39m=\u001b[39m torch\u001b[39m.\u001b[39mdevice(\u001b[39m'\u001b[39m\u001b[39mcuda\u001b[39m\u001b[39m'\u001b[39m \u001b[39mif\u001b[39;00m torch\u001b[39m.\u001b[39mcuda\u001b[39m.\u001b[39mis_available() \u001b[39melse\u001b[39;00m \u001b[39m'\u001b[39m\u001b[39mcpu\u001b[39m\u001b[39m'\u001b[39m)\n",
      "File \u001b[0;32m~/anaconda3/envs/priyanshu/lib/python3.11/site-packages/dgl/__init__.py:14\u001b[0m\n\u001b[1;32m     12\u001b[0m \u001b[39m# Backend and logging should be imported before other modules.\u001b[39;00m\n\u001b[1;32m     13\u001b[0m \u001b[39mfrom\u001b[39;00m \u001b[39m.\u001b[39;00m\u001b[39mlogging\u001b[39;00m \u001b[39mimport\u001b[39;00m enable_verbose_logging  \u001b[39m# usort: skip\u001b[39;00m\n\u001b[0;32m---> 14\u001b[0m \u001b[39mfrom\u001b[39;00m \u001b[39m.\u001b[39;00m\u001b[39mbackend\u001b[39;00m \u001b[39mimport\u001b[39;00m backend_name, load_backend  \u001b[39m# usort: skip\u001b[39;00m\n\u001b[1;32m     16\u001b[0m \u001b[39mfrom\u001b[39;00m \u001b[39m.\u001b[39;00m \u001b[39mimport\u001b[39;00m (\n\u001b[1;32m     17\u001b[0m     container,\n\u001b[1;32m     18\u001b[0m     cuda,\n\u001b[0;32m   (...)\u001b[0m\n\u001b[1;32m     25\u001b[0m     storages,\n\u001b[1;32m     26\u001b[0m )\n\u001b[1;32m     27\u001b[0m \u001b[39mfrom\u001b[39;00m \u001b[39m.\u001b[39;00m\u001b[39m_ffi\u001b[39;00m\u001b[39m.\u001b[39;00m\u001b[39mbase\u001b[39;00m \u001b[39mimport\u001b[39;00m __version__, DGLError\n",
      "File \u001b[0;32m~/anaconda3/envs/priyanshu/lib/python3.11/site-packages/dgl/backend/__init__.py:122\u001b[0m\n\u001b[1;32m    118\u001b[0m         set_default_backend(default_dir, \u001b[39m\"\u001b[39m\u001b[39mpytorch\u001b[39m\u001b[39m\"\u001b[39m)\n\u001b[1;32m    119\u001b[0m         \u001b[39mreturn\u001b[39;00m \u001b[39m\"\u001b[39m\u001b[39mpytorch\u001b[39m\u001b[39m\"\u001b[39m\n\u001b[0;32m--> 122\u001b[0m load_backend(get_preferred_backend())\n\u001b[1;32m    125\u001b[0m \u001b[39mdef\u001b[39;00m \u001b[39mis_enabled\u001b[39m(api):\n\u001b[1;32m    126\u001b[0m \u001b[39m    \u001b[39m\u001b[39m\"\"\"Return true if the api is enabled by the current backend.\u001b[39;00m\n\u001b[1;32m    127\u001b[0m \n\u001b[1;32m    128\u001b[0m \u001b[39m    Parameters\u001b[39;00m\n\u001b[0;32m   (...)\u001b[0m\n\u001b[1;32m    136\u001b[0m \u001b[39m        True if the API is enabled by the current backend.\u001b[39;00m\n\u001b[1;32m    137\u001b[0m \u001b[39m    \"\"\"\u001b[39;00m\n",
      "File \u001b[0;32m~/anaconda3/envs/priyanshu/lib/python3.11/site-packages/dgl/backend/__init__.py:51\u001b[0m, in \u001b[0;36mload_backend\u001b[0;34m(mod_name)\u001b[0m\n\u001b[1;32m     48\u001b[0m \u001b[39melse\u001b[39;00m:\n\u001b[1;32m     49\u001b[0m     \u001b[39mraise\u001b[39;00m \u001b[39mNotImplementedError\u001b[39;00m(\u001b[39m\"\u001b[39m\u001b[39mUnsupported backend: \u001b[39m\u001b[39m%s\u001b[39;00m\u001b[39m\"\u001b[39m \u001b[39m%\u001b[39m mod_name)\n\u001b[0;32m---> 51\u001b[0m \u001b[39mfrom\u001b[39;00m \u001b[39m.\u001b[39;00m\u001b[39m.\u001b[39;00m\u001b[39m_ffi\u001b[39;00m\u001b[39m.\u001b[39;00m\u001b[39mbase\u001b[39;00m \u001b[39mimport\u001b[39;00m load_tensor_adapter  \u001b[39m# imports DGL C library\u001b[39;00m\n\u001b[1;32m     53\u001b[0m version \u001b[39m=\u001b[39m mod\u001b[39m.\u001b[39m__version__\n\u001b[1;32m     54\u001b[0m load_tensor_adapter(mod_name, version)\n",
      "File \u001b[0;32m~/anaconda3/envs/priyanshu/lib/python3.11/site-packages/dgl/_ffi/base.py:50\u001b[0m\n\u001b[1;32m     48\u001b[0m __version__ \u001b[39m=\u001b[39m libinfo\u001b[39m.\u001b[39m__version__\n\u001b[1;32m     49\u001b[0m \u001b[39m# library instance of nnvm\u001b[39;00m\n\u001b[0;32m---> 50\u001b[0m _LIB, _LIB_NAME, _DIR_NAME \u001b[39m=\u001b[39m _load_lib()\n\u001b[1;32m     52\u001b[0m \u001b[39m# The FFI mode of DGL\u001b[39;00m\n\u001b[1;32m     53\u001b[0m _FFI_MODE \u001b[39m=\u001b[39m os\u001b[39m.\u001b[39menviron\u001b[39m.\u001b[39mget(\u001b[39m\"\u001b[39m\u001b[39mDGL_FFI\u001b[39m\u001b[39m\"\u001b[39m, \u001b[39m\"\u001b[39m\u001b[39mauto\u001b[39m\u001b[39m\"\u001b[39m)\n",
      "File \u001b[0;32m~/anaconda3/envs/priyanshu/lib/python3.11/site-packages/dgl/_ffi/base.py:39\u001b[0m, in \u001b[0;36m_load_lib\u001b[0;34m()\u001b[0m\n\u001b[1;32m     37\u001b[0m \u001b[39m\u001b[39m\u001b[39m\"\"\"Load libary by searching possible path.\"\"\"\u001b[39;00m\n\u001b[1;32m     38\u001b[0m lib_path \u001b[39m=\u001b[39m libinfo\u001b[39m.\u001b[39mfind_lib_path()\n\u001b[0;32m---> 39\u001b[0m lib \u001b[39m=\u001b[39m ctypes\u001b[39m.\u001b[39mCDLL(lib_path[\u001b[39m0\u001b[39m])\n\u001b[1;32m     40\u001b[0m dirname \u001b[39m=\u001b[39m os\u001b[39m.\u001b[39mpath\u001b[39m.\u001b[39mdirname(lib_path[\u001b[39m0\u001b[39m])\n\u001b[1;32m     41\u001b[0m basename \u001b[39m=\u001b[39m os\u001b[39m.\u001b[39mpath\u001b[39m.\u001b[39mbasename(lib_path[\u001b[39m0\u001b[39m])\n",
      "File \u001b[0;32m~/anaconda3/envs/priyanshu/lib/python3.11/ctypes/__init__.py:376\u001b[0m, in \u001b[0;36mCDLL.__init__\u001b[0;34m(self, name, mode, handle, use_errno, use_last_error, winmode)\u001b[0m\n\u001b[1;32m    373\u001b[0m \u001b[39mself\u001b[39m\u001b[39m.\u001b[39m_FuncPtr \u001b[39m=\u001b[39m _FuncPtr\n\u001b[1;32m    375\u001b[0m \u001b[39mif\u001b[39;00m handle \u001b[39mis\u001b[39;00m \u001b[39mNone\u001b[39;00m:\n\u001b[0;32m--> 376\u001b[0m     \u001b[39mself\u001b[39m\u001b[39m.\u001b[39m_handle \u001b[39m=\u001b[39m _dlopen(\u001b[39mself\u001b[39m\u001b[39m.\u001b[39m_name, mode)\n\u001b[1;32m    377\u001b[0m \u001b[39melse\u001b[39;00m:\n\u001b[1;32m    378\u001b[0m     \u001b[39mself\u001b[39m\u001b[39m.\u001b[39m_handle \u001b[39m=\u001b[39m handle\n",
      "\u001b[0;31mOSError\u001b[0m: libcusparse.so.11: cannot open shared object file: No such file or directory"
     ]
    }
   ],
   "source": [
    "from loader.dataloader import *\n",
    "from loader.loader_1d import *\n",
    "from utils.utilities import *"
   ]
  },
  {
   "cell_type": "code",
   "execution_count": null,
   "metadata": {},
   "outputs": [],
   "source": [
    "PATH = 'data/Burgers_N2048_D8192.npz'\n",
    "loader = npzloader(path=PATH, device='cpu')\n",
    "training_data_resolution = 8192\n",
    "grid_size = 8192\n",
    "ntrain = 1800\n",
    "nval = 148\n",
    "ntest = 200  \n",
    "x_train, y_train, x_val, y_val, x_test, y_test = loader.split(ntrain, nval, ntest)\n",
    "x_normalizer = UnitGaussianNormalizer(x_train)\n",
    "y_normalizer = UnitGaussianNormalizer(y_train)\n",
    "# train loader obj\n",
    "train_obj = DataLoader_1D(X=x_train, y=y_train, n=ntrain, res=training_data_resolution, grid_size=grid_size, batch_size=20, x_normalizer=x_normalizer, y_normalizer=None)\n",
    "# val loader obj\n",
    "val_obj = DataLoader_1D(X=x_val, y=y_val, n=ntest, res=training_data_resolution, grid_size=grid_size, batch_size=20, x_normalizer=x_normalizer, y_normalizer=None)\n",
    "# test loader obj\n",
    "test_obj = DataLoader_1D(X=x_test, y=y_test, n=ntest, res=training_data_resolution, grid_size=grid_size, batch_size=20, x_normalizer=x_normalizer, y_normalizer=None)\n"
   ]
  },
  {
   "cell_type": "code",
   "execution_count": null,
   "metadata": {},
   "outputs": [],
   "source": [
    "print(train_obj.get_grid().shape())\n",
    "print(next(iter(train_obj.get_grid_loader()))[0].shape())"
   ]
  }
 ],
 "metadata": {
  "kernelspec": {
   "display_name": "priyanshu",
   "language": "python",
   "name": "python3"
  },
  "language_info": {
   "codemirror_mode": {
    "name": "ipython",
    "version": 3
   },
   "file_extension": ".py",
   "mimetype": "text/x-python",
   "name": "python",
   "nbconvert_exporter": "python",
   "pygments_lexer": "ipython3",
   "version": "3.11.5"
  },
  "orig_nbformat": 4
 },
 "nbformat": 4,
 "nbformat_minor": 2
}
